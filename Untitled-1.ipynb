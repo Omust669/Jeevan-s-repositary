{
 "cells": [
  {
   "cell_type": "code",
   "execution_count": null,
   "metadata": {
    "vscode": {
     "languageId": "c"
    }
   },
   "outputs": [],
   "source": [
    "#include <stdio.h>\n",
    "int main()\n",
    "{const int MAX_VALUE=100;\n",
    "int number;\n",
    "number=50;\n",
    "printf(\"Constant MAX_VALUE:%d\\n\",MAX_VALUE);\n",
    "printf(\"Variable number:%d\\n\",number);\n",
    "number=75;\n",
    "printf(\"Upload variable number:%d\\n\",number);\n",
    "return 0;\n",
    "}"
   ]
  },
  {
   "cell_type": "markdown",
   "metadata": {},
   "source": []
  }
 ],
 "metadata": {
  "language_info": {
   "name": "python"
  }
 },
 "nbformat": 4,
 "nbformat_minor": 2
}
